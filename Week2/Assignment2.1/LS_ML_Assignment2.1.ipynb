{
  "nbformat": 4,
  "nbformat_minor": 0,
  "metadata": {
    "colab": {
      "provenance": []
    },
    "kernelspec": {
      "name": "python3",
      "display_name": "Python 3"
    },
    "language_info": {
      "name": "python"
    }
  },
  "cells": [
    {
      "cell_type": "code",
      "execution_count": 20,
      "metadata": {
        "id": "J0MmXFEarIsE"
      },
      "outputs": [],
      "source": [
        "import math"
      ]
    },
    {
      "cell_type": "code",
      "source": [
        "corpus = [\n",
        "    'the sun is a star',\n",
        "    'the moon is a satellite',\n",
        "    'the sun and moon are celestial bodies'\n",
        "]"
      ],
      "metadata": {
        "id": "WekfN4jKrlt8"
      },
      "execution_count": 21,
      "outputs": []
    },
    {
      "cell_type": "markdown",
      "source": [
        "Manual TF"
      ],
      "metadata": {
        "id": "Nd79UHLtrqvM"
      }
    },
    {
      "cell_type": "code",
      "source": [
        "def compute_tf(doc):\n",
        "    tf = {}\n",
        "    words = doc.split()\n",
        "    total_terms = len(words)\n",
        "    for word in words:\n",
        "        tf[word] = tf.get(word, 0) + 1\n",
        "    for word in tf:\n",
        "        tf[word] /= total_terms\n",
        "    return tf"
      ],
      "metadata": {
        "id": "SwNDdDg0rrYF"
      },
      "execution_count": 22,
      "outputs": []
    },
    {
      "cell_type": "markdown",
      "source": [
        "Manual IDF"
      ],
      "metadata": {
        "id": "KmSut_bHsbOC"
      }
    },
    {
      "cell_type": "code",
      "source": [
        "def compute_idf(corpus):\n",
        "    idf = {}\n",
        "    N = len(corpus)\n",
        "    all_words = set(word for doc in corpus for word in doc.split())\n",
        "    for word in all_words:\n",
        "        containing_docs = sum(1 for doc in corpus if word in doc.split())\n",
        "        idf[word] = math.log(N / containing_docs) if containing_docs > 0 else 0\n",
        "    return idf"
      ],
      "metadata": {
        "id": "pxuyH-RpsXJL"
      },
      "execution_count": 23,
      "outputs": []
    },
    {
      "cell_type": "markdown",
      "source": [
        "Manual TF-IDF"
      ],
      "metadata": {
        "id": "g2ZJthxWsqXY"
      }
    },
    {
      "cell_type": "code",
      "source": [
        "def compute_tf_idf(tf, idf):\n",
        "    tf_idf = {}\n",
        "    for word in tf:\n",
        "        tf_idf[word] = tf[word] * idf.get(word, 0)\n",
        "    return tf_idf"
      ],
      "metadata": {
        "id": "NOj7ZQmbsrbq"
      },
      "execution_count": 24,
      "outputs": []
    },
    {
      "cell_type": "code",
      "source": [
        "manual_tf_idf_vectors = []\n",
        "idfs = compute_idf(corpus)\n",
        "for doc in corpus:\n",
        "    tf = compute_tf(doc)\n",
        "    tf_idf = compute_tf_idf(tf, idfs)\n",
        "    manual_tf_idf_vectors.append(tf_idf)"
      ],
      "metadata": {
        "id": "WIlmMFRMtRQ3"
      },
      "execution_count": 25,
      "outputs": []
    },
    {
      "cell_type": "code",
      "source": [
        "import pandas as pd\n",
        "unique_words = sorted(set(word for doc in corpus for word in doc.split()))\n",
        "manual_df = pd.DataFrame([{word: tfidf.get(word, 0) for word in unique_words} for tfidf in manual_tf_idf_vectors])\n",
        "manual_df.index = ['Doc1', 'Doc2', 'Doc3']\n",
        "print(manual_df.round(3))"
      ],
      "metadata": {
        "colab": {
          "base_uri": "https://localhost:8080/"
        },
        "id": "pv5i0mqPtToN",
        "outputId": "e7988d65-3554-4dd0-9439-2b5089eda66d"
      },
      "execution_count": 26,
      "outputs": [
        {
          "output_type": "stream",
          "name": "stdout",
          "text": [
            "          a    and    are  bodies  celestial     is   moon  satellite  star  \\\n",
            "Doc1  0.081  0.000  0.000   0.000      0.000  0.081  0.000       0.00  0.22   \n",
            "Doc2  0.081  0.000  0.000   0.000      0.000  0.081  0.081       0.22  0.00   \n",
            "Doc3  0.000  0.157  0.157   0.157      0.157  0.000  0.058       0.00  0.00   \n",
            "\n",
            "        sun  the  \n",
            "Doc1  0.081  0.0  \n",
            "Doc2  0.000  0.0  \n",
            "Doc3  0.058  0.0  \n"
          ]
        }
      ]
    },
    {
      "cell_type": "markdown",
      "source": [
        "**Count Vectorizer**"
      ],
      "metadata": {
        "id": "P3C7UaYJtrY3"
      }
    },
    {
      "cell_type": "code",
      "source": [
        "from sklearn.feature_extraction.text import CountVectorizer, TfidfVectorizer"
      ],
      "metadata": {
        "id": "s0l4QlL0tg05"
      },
      "execution_count": 27,
      "outputs": []
    },
    {
      "cell_type": "code",
      "source": [
        "count_vectorizer = CountVectorizer()\n",
        "count_matrix = count_vectorizer.fit_transform(corpus).toarray()\n",
        "count_df = pd.DataFrame(count_matrix, columns=count_vectorizer.get_feature_names_out(), index=['Doc1', 'Doc2', 'Doc3'])\n",
        "print(count_df)"
      ],
      "metadata": {
        "colab": {
          "base_uri": "https://localhost:8080/"
        },
        "id": "GJKWil4Ht8Bn",
        "outputId": "30d09243-b0a3-4464-dba5-0463b1c8ad55"
      },
      "execution_count": 28,
      "outputs": [
        {
          "output_type": "stream",
          "name": "stdout",
          "text": [
            "      and  are  bodies  celestial  is  moon  satellite  star  sun  the\n",
            "Doc1    0    0       0          0   1     0          0     1    1    1\n",
            "Doc2    0    0       0          0   1     1          1     0    0    1\n",
            "Doc3    1    1       1          1   0     1          0     0    1    1\n"
          ]
        }
      ]
    },
    {
      "cell_type": "markdown",
      "source": [
        "TF-IDF Vectorizer using scikit-learn"
      ],
      "metadata": {
        "id": "sNHSUZcQuRuB"
      }
    },
    {
      "cell_type": "code",
      "source": [
        "tfidf_vectorizer = TfidfVectorizer()\n",
        "tfidf_matrix = tfidf_vectorizer.fit_transform(corpus).toarray()\n",
        "tfidf_df = pd.DataFrame(tfidf_matrix, columns=tfidf_vectorizer.get_feature_names_out(), index=['Doc1', 'Doc2', 'Doc3'])\n",
        "print(tfidf_df.round(3))"
      ],
      "metadata": {
        "colab": {
          "base_uri": "https://localhost:8080/"
        },
        "id": "EcVslWE3vGGx",
        "outputId": "5ef13a69-e766-4953-852b-2788f0262c67"
      },
      "execution_count": 29,
      "outputs": [
        {
          "output_type": "stream",
          "name": "stdout",
          "text": [
            "        and    are  bodies  celestial    is   moon  satellite   star    sun  \\\n",
            "Doc1  0.000  0.000   0.000      0.000  0.48  0.000      0.000  0.632  0.480   \n",
            "Doc2  0.000  0.000   0.000      0.000  0.48  0.480      0.632  0.000  0.000   \n",
            "Doc3  0.426  0.426   0.426      0.426  0.00  0.324      0.000  0.000  0.324   \n",
            "\n",
            "        the  \n",
            "Doc1  0.373  \n",
            "Doc2  0.373  \n",
            "Doc3  0.252  \n"
          ]
        }
      ]
    },
    {
      "cell_type": "code",
      "source": [
        "print(\"Manual TF-IDF:\\n\", manual_df.round(3), \"\\n\")\n",
        "print(\"Count Vectorizer:\\n\", count_df, \"\\n\")\n",
        "print(\"TfidfVectorizer (sklearn):\\n\", tfidf_df.round(3), \"\\n\")"
      ],
      "metadata": {
        "colab": {
          "base_uri": "https://localhost:8080/"
        },
        "id": "rqi1YI8oveDt",
        "outputId": "ecf39360-05ad-4e25-a175-de40d1085660"
      },
      "execution_count": 30,
      "outputs": [
        {
          "output_type": "stream",
          "name": "stdout",
          "text": [
            "Manual TF-IDF:\n",
            "           a    and    are  bodies  celestial     is   moon  satellite  star  \\\n",
            "Doc1  0.081  0.000  0.000   0.000      0.000  0.081  0.000       0.00  0.22   \n",
            "Doc2  0.081  0.000  0.000   0.000      0.000  0.081  0.081       0.22  0.00   \n",
            "Doc3  0.000  0.157  0.157   0.157      0.157  0.000  0.058       0.00  0.00   \n",
            "\n",
            "        sun  the  \n",
            "Doc1  0.081  0.0  \n",
            "Doc2  0.000  0.0  \n",
            "Doc3  0.058  0.0   \n",
            "\n",
            "Count Vectorizer:\n",
            "       and  are  bodies  celestial  is  moon  satellite  star  sun  the\n",
            "Doc1    0    0       0          0   1     0          0     1    1    1\n",
            "Doc2    0    0       0          0   1     1          1     0    0    1\n",
            "Doc3    1    1       1          1   0     1          0     0    1    1 \n",
            "\n",
            "TfidfVectorizer (sklearn):\n",
            "         and    are  bodies  celestial    is   moon  satellite   star    sun  \\\n",
            "Doc1  0.000  0.000   0.000      0.000  0.48  0.000      0.000  0.632  0.480   \n",
            "Doc2  0.000  0.000   0.000      0.000  0.48  0.480      0.632  0.000  0.000   \n",
            "Doc3  0.426  0.426   0.426      0.426  0.00  0.324      0.000  0.000  0.324   \n",
            "\n",
            "        the  \n",
            "Doc1  0.373  \n",
            "Doc2  0.373  \n",
            "Doc3  0.252   \n",
            "\n"
          ]
        }
      ]
    }
  ]
}