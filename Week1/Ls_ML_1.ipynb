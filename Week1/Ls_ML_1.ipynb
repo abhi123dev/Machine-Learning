{
  "nbformat": 4,
  "nbformat_minor": 0,
  "metadata": {
    "colab": {
      "provenance": []
    },
    "kernelspec": {
      "name": "python3",
      "display_name": "Python 3"
    },
    "language_info": {
      "name": "python"
    }
  },
  "cells": [
    {
      "cell_type": "markdown",
      "source": [
        "# **Question 1**"
      ],
      "metadata": {
        "id": "_rvOQaEyQnK7"
      }
    },
    {
      "cell_type": "code",
      "execution_count": 70,
      "metadata": {
        "colab": {
          "base_uri": "https://localhost:8080/"
        },
        "id": "qAOfHfmRKwHQ",
        "outputId": "e3bda6f6-a05a-4d8a-f4f0-b9724566ad72"
      },
      "outputs": [
        {
          "output_type": "stream",
          "name": "stdout",
          "text": [
            "[[33 14 45 46]\n",
            " [22 15 29 10]\n",
            " [ 7  7 11 29]\n",
            " [31 29  9 34]\n",
            " [21  4 44 40]]\n"
          ]
        }
      ],
      "source": [
        "import numpy as np\n",
        "arr = np.random.randint(1,51, size=(5,4))\n",
        "print(arr)"
      ]
    },
    {
      "cell_type": "markdown",
      "source": [
        "Anti diagonal"
      ],
      "metadata": {
        "id": "qyTmOagTLhwR"
      }
    },
    {
      "cell_type": "code",
      "source": [
        "anti = [arr[i][-(i+1)] for i in range(min(arr.shape))]\n",
        "print(anti)"
      ],
      "metadata": {
        "colab": {
          "base_uri": "https://localhost:8080/"
        },
        "id": "J919--ybLkKs",
        "outputId": "5d74cf6c-c02d-4147-fcc9-a8687354c96d"
      },
      "execution_count": 71,
      "outputs": [
        {
          "output_type": "stream",
          "name": "stdout",
          "text": [
            "[np.int64(46), np.int64(29), np.int64(7), np.int64(31)]\n"
          ]
        }
      ]
    },
    {
      "cell_type": "markdown",
      "source": [
        "Maximum"
      ],
      "metadata": {
        "id": "00GL-0HkMvie"
      }
    },
    {
      "cell_type": "code",
      "source": [
        "Rmax = np.max(arr, axis=1)\n",
        "print(Rmax)"
      ],
      "metadata": {
        "colab": {
          "base_uri": "https://localhost:8080/"
        },
        "id": "esP8LuTkMyUM",
        "outputId": "ac0ad416-3a50-4982-9563-f141fc0bcd55"
      },
      "execution_count": 72,
      "outputs": [
        {
          "output_type": "stream",
          "name": "stdout",
          "text": [
            "[46 29 29 34 44]\n"
          ]
        }
      ]
    },
    {
      "cell_type": "markdown",
      "source": [
        "elements <= overall mean"
      ],
      "metadata": {
        "id": "oei7o2QBNMeP"
      }
    },
    {
      "cell_type": "code",
      "source": [
        "Overall_mean = np.mean(arr)\n",
        "lessThanMean = arr[arr <= Overall_mean]\n",
        "print(lessThanMean)"
      ],
      "metadata": {
        "colab": {
          "base_uri": "https://localhost:8080/"
        },
        "id": "bb-BqYwhNVml",
        "outputId": "3edec63d-699c-4252-c3d7-fc4ed42bed66"
      },
      "execution_count": 73,
      "outputs": [
        {
          "output_type": "stream",
          "name": "stdout",
          "text": [
            "[14 22 15 10  7  7 11  9 21  4]\n"
          ]
        }
      ]
    },
    {
      "cell_type": "markdown",
      "source": [
        "Boundary transversal"
      ],
      "metadata": {
        "id": "CSLwIMOuNtT5"
      }
    },
    {
      "cell_type": "code",
      "source": [
        "def numpy_boundary_traversal(matrix):\n",
        "  top = list(matrix[0])\n",
        "  right = [row[-1] for row in matrix[1:-1]]\n",
        "  bottom = list(matrix[-1][::-1])\n",
        "  left = [row[0] for row in matrix[-2:0:-1]]\n",
        "  return top + right + bottom + left\n",
        "print(numpy_boundary_traversal(arr))"
      ],
      "metadata": {
        "colab": {
          "base_uri": "https://localhost:8080/"
        },
        "id": "4SqnLg-SNxX6",
        "outputId": "ab4331d3-d41c-4c80-a5cc-c944307870ae"
      },
      "execution_count": 74,
      "outputs": [
        {
          "output_type": "stream",
          "name": "stdout",
          "text": [
            "[np.int64(33), np.int64(14), np.int64(45), np.int64(46), np.int64(10), np.int64(29), np.int64(34), np.int64(40), np.int64(44), np.int64(4), np.int64(21), np.int64(31), np.int64(7), np.int64(22)]\n"
          ]
        }
      ]
    },
    {
      "cell_type": "markdown",
      "source": [
        "# **Question 2**"
      ],
      "metadata": {
        "id": "G42xkwwCQ2rN"
      }
    },
    {
      "cell_type": "code",
      "source": [
        "import numpy as np\n",
        "arr2 = np.random.uniform(0,10, 20)\n",
        "print(arr2)\n",
        "rounded = np.round(arr2,2)\n",
        "print('rounded : ',rounded)"
      ],
      "metadata": {
        "colab": {
          "base_uri": "https://localhost:8080/"
        },
        "id": "lIo_mUNBRDZn",
        "outputId": "810121ca-a73b-49a9-ee40-98d8d6ca13c7"
      },
      "execution_count": 75,
      "outputs": [
        {
          "output_type": "stream",
          "name": "stdout",
          "text": [
            "[1.61131403 0.41069483 0.74231886 8.59549313 4.86118472 1.66193683\n",
            " 6.75456028 7.1585201  6.02922988 3.3028348  2.89955965 5.40988005\n",
            " 5.0752666  9.97944996 4.1617269  4.58594005 8.76793348 9.71102886\n",
            " 6.43107438 5.82962863]\n",
            "rounded :  [1.61 0.41 0.74 8.6  4.86 1.66 6.75 7.16 6.03 3.3  2.9  5.41 5.08 9.98\n",
            " 4.16 4.59 8.77 9.71 6.43 5.83]\n"
          ]
        }
      ]
    },
    {
      "cell_type": "markdown",
      "source": [
        "min, max, median"
      ],
      "metadata": {
        "id": "M9sLbedITD1O"
      }
    },
    {
      "cell_type": "code",
      "source": [
        "Amin = np.min(rounded)\n",
        "Amax = np.max(rounded)\n",
        "Amedian = np.median(rounded)\n",
        "print('min: ', Amin,'max:', Amax,'median: ', Amedian)\n"
      ],
      "metadata": {
        "colab": {
          "base_uri": "https://localhost:8080/"
        },
        "id": "xYArUNgHTJBn",
        "outputId": "18baae63-e9b2-4e3f-b86e-e5f062e7a49c"
      },
      "execution_count": 76,
      "outputs": [
        {
          "output_type": "stream",
          "name": "stdout",
          "text": [
            "min:  0.41 max: 9.98 median:  5.245\n"
          ]
        }
      ]
    },
    {
      "cell_type": "markdown",
      "source": [
        "lees than 5 with squares"
      ],
      "metadata": {
        "id": "NN1SppOTTjlO"
      }
    },
    {
      "cell_type": "code",
      "source": [
        "arr_less = np.where(rounded < 5, rounded**2, rounded)\n",
        "print(arr_less)"
      ],
      "metadata": {
        "colab": {
          "base_uri": "https://localhost:8080/"
        },
        "id": "FojbkcVoTqJe",
        "outputId": "cf5b07b5-f9cd-486c-de95-7ecde628d706"
      },
      "execution_count": 77,
      "outputs": [
        {
          "output_type": "stream",
          "name": "stdout",
          "text": [
            "[ 2.5921  0.1681  0.5476  8.6    23.6196  2.7556  6.75    7.16    6.03\n",
            " 10.89    8.41    5.41    5.08    9.98   17.3056 21.0681  8.77    9.71\n",
            "  6.43    5.83  ]\n"
          ]
        }
      ]
    },
    {
      "cell_type": "markdown",
      "source": [
        "Alternate sort"
      ],
      "metadata": {
        "id": "R5k1epWpUDJo"
      }
    },
    {
      "cell_type": "code",
      "source": [
        "def numpy_alternate_sort(array):\n",
        "  sorted = np.sort(array)\n",
        "  result = []\n",
        "  i,j = 0, len(sorted)-1\n",
        "  while i <= j:\n",
        "    result.append(sorted[i])\n",
        "    if i != j:\n",
        "      result.append(sorted[j])\n",
        "      i += 1\n",
        "      j -= 1\n",
        "  return result\n",
        "\n",
        "print(numpy_alternate_sort(rounded))"
      ],
      "metadata": {
        "colab": {
          "base_uri": "https://localhost:8080/"
        },
        "id": "2WMSQZ7AUH1J",
        "outputId": "27711339-38e1-4547-fd60-b9e1849848f2"
      },
      "execution_count": 78,
      "outputs": [
        {
          "output_type": "stream",
          "name": "stdout",
          "text": [
            "[np.float64(0.41), np.float64(9.98), np.float64(0.74), np.float64(9.71), np.float64(1.61), np.float64(8.77), np.float64(1.66), np.float64(8.6), np.float64(2.9), np.float64(7.16), np.float64(3.3), np.float64(6.75), np.float64(4.16), np.float64(6.43), np.float64(4.59), np.float64(6.03), np.float64(4.86), np.float64(5.83), np.float64(5.08), np.float64(5.41)]\n"
          ]
        }
      ]
    },
    {
      "cell_type": "markdown",
      "source": [
        "# **Question 3**"
      ],
      "metadata": {
        "id": "ZWjRDk_vVoIL"
      }
    },
    {
      "cell_type": "code",
      "source": [
        "import pandas as pd\n",
        "import numpy as np\n",
        "\n",
        "data = {\n",
        "    'Name':[f'Student{i+1}' for i in range(10)],\n",
        "    'Subject': np.random.choice(['Math', 'Science', 'English'], size=10),\n",
        "    'Score': np.random.randint(50, 101, size=10),\n",
        "    'Grade': ['']*10\n",
        "}\n",
        "df = pd.DataFrame(data)"
      ],
      "metadata": {
        "id": "nOsP7QGYVvK8"
      },
      "execution_count": 79,
      "outputs": []
    },
    {
      "cell_type": "markdown",
      "source": [
        "Grades"
      ],
      "metadata": {
        "id": "zCy3p8tBW8OV"
      }
    },
    {
      "cell_type": "code",
      "source": [
        "def assign_grade(score):\n",
        "  if score>= 90: return 'A'\n",
        "  if score>= 80: return 'B'\n",
        "  if score>= 70: return 'C'\n",
        "  if score>= 60: return 'D'\n",
        "  else: return 'F'\n",
        "df['Grade'] = df['Score'].apply(assign_grade)\n",
        "print(df)"
      ],
      "metadata": {
        "colab": {
          "base_uri": "https://localhost:8080/"
        },
        "id": "0ajseabsW-So",
        "outputId": "8d802a66-a4f6-42bd-ee95-a08efc70a790"
      },
      "execution_count": 80,
      "outputs": [
        {
          "output_type": "stream",
          "name": "stdout",
          "text": [
            "        Name  Subject  Score Grade\n",
            "0   Student1  English     77     C\n",
            "1   Student2  English     70     C\n",
            "2   Student3  Science     64     D\n",
            "3   Student4     Math     56     F\n",
            "4   Student5  English     70     C\n",
            "5   Student6  English     66     D\n",
            "6   Student7  Science     54     F\n",
            "7   Student8  English     53     F\n",
            "8   Student9     Math     97     A\n",
            "9  Student10  Science     61     D\n"
          ]
        }
      ]
    },
    {
      "cell_type": "markdown",
      "source": [
        "Sorted Dataframe"
      ],
      "metadata": {
        "id": "HoXJRcraX61-"
      }
    },
    {
      "cell_type": "code",
      "source": [
        "print(df.sort_values(by= 'Score', ascending=False))"
      ],
      "metadata": {
        "colab": {
          "base_uri": "https://localhost:8080/"
        },
        "id": "GOqMXJA8X-1-",
        "outputId": "5adba7a2-3fdc-4fac-d4d2-1791ccd93ac4"
      },
      "execution_count": 81,
      "outputs": [
        {
          "output_type": "stream",
          "name": "stdout",
          "text": [
            "        Name  Subject  Score Grade\n",
            "8   Student9     Math     97     A\n",
            "0   Student1  English     77     C\n",
            "1   Student2  English     70     C\n",
            "4   Student5  English     70     C\n",
            "5   Student6  English     66     D\n",
            "2   Student3  Science     64     D\n",
            "9  Student10  Science     61     D\n",
            "3   Student4     Math     56     F\n",
            "6   Student7  Science     54     F\n",
            "7   Student8  English     53     F\n"
          ]
        }
      ]
    },
    {
      "cell_type": "markdown",
      "source": [
        "Average Score per subject"
      ],
      "metadata": {
        "id": "29dEUm5XhPHG"
      }
    },
    {
      "cell_type": "code",
      "source": [
        "print(df.groupby('Subject')['Score'].mean())"
      ],
      "metadata": {
        "colab": {
          "base_uri": "https://localhost:8080/"
        },
        "id": "Y3cHhj1ihTkh",
        "outputId": "8ad51ace-3a9a-4253-8cfb-f4d89efd8653"
      },
      "execution_count": 82,
      "outputs": [
        {
          "output_type": "stream",
          "name": "stdout",
          "text": [
            "Subject\n",
            "English    67.200000\n",
            "Math       76.500000\n",
            "Science    59.666667\n",
            "Name: Score, dtype: float64\n"
          ]
        }
      ]
    },
    {
      "cell_type": "markdown",
      "source": [
        "Pandas Filter Pass"
      ],
      "metadata": {
        "id": "VAr1RYbshfPM"
      }
    },
    {
      "cell_type": "code",
      "source": [
        "def pandas_filter_pass(dataframe):\n",
        "  return dataframe[dataframe['Score'] >= 90]\n",
        "print(pandas_filter_pass(df))"
      ],
      "metadata": {
        "colab": {
          "base_uri": "https://localhost:8080/"
        },
        "id": "YXpO7eOyho_d",
        "outputId": "8ffc2b5c-c1c3-4779-bcf4-73f1b424da53"
      },
      "execution_count": 83,
      "outputs": [
        {
          "output_type": "stream",
          "name": "stdout",
          "text": [
            "       Name Subject  Score Grade\n",
            "8  Student9    Math     97     A\n"
          ]
        }
      ]
    },
    {
      "cell_type": "markdown",
      "source": [
        "# **Question 4**"
      ],
      "metadata": {
        "id": "f7TCNyMriIvp"
      }
    },
    {
      "cell_type": "code",
      "source": [
        "from sklearn.feature_extraction.text import CountVectorizer\n",
        "from sklearn.model_selection import train_test_split\n",
        "from sklearn.naive_bayes import MultinomialNB\n",
        "from sklearn.metrics import accuracy_score\n",
        "\n",
        "\n",
        "reviews = ['Great movie!' for _ in range(50)] + ['Terrible movie!' for _ in range(50)]\n",
        "sentiments = ['positive'] * 50 + ['negative'] * 50\n",
        "df = pd.DataFrame({'Review': reviews, 'Sentiment': sentiments})"
      ],
      "metadata": {
        "id": "Xar2TOthiQZC"
      },
      "execution_count": 84,
      "outputs": []
    },
    {
      "cell_type": "markdown",
      "source": [
        "CountVectorizer"
      ],
      "metadata": {
        "id": "VjWWnd-pjhpL"
      }
    },
    {
      "cell_type": "code",
      "source": [
        "vectorizer = CountVectorizer(max_features=300, stop_words='english')\n",
        "X = vectorizer.fit_transform(df['Review'])\n",
        "y = df['Sentiment']"
      ],
      "metadata": {
        "id": "X-2P4EY9jnlI"
      },
      "execution_count": 85,
      "outputs": []
    },
    {
      "cell_type": "markdown",
      "source": [
        "train, test and model"
      ],
      "metadata": {
        "id": "_Te4fNbQkqfy"
      }
    },
    {
      "cell_type": "code",
      "source": [
        "X_train, X_test, y_train, y_test = train_test_split(X, y, test_size=0.20, random_state=42)\n",
        "\n",
        "model = MultinomialNB()\n",
        "model.fit(X_train, y_train)\n",
        "y_pred = model.predict(X_test)\n",
        "\n",
        "print(\"Accuracy:\", accuracy_score(y_test, y_pred))"
      ],
      "metadata": {
        "colab": {
          "base_uri": "https://localhost:8080/"
        },
        "id": "6Y4b5Kvkkt13",
        "outputId": "c3ec785e-c97c-44da-abe2-2ebb3ad009ea"
      },
      "execution_count": 86,
      "outputs": [
        {
          "output_type": "stream",
          "name": "stdout",
          "text": [
            "Accuracy: 1.0\n"
          ]
        }
      ]
    },
    {
      "cell_type": "markdown",
      "source": [
        "predict_review_sentiment function"
      ],
      "metadata": {
        "id": "ey-rDBtDl6Xp"
      }
    },
    {
      "cell_type": "code",
      "source": [
        "def predict_review_sentiment(model, vectorizer, review):\n",
        "    review_vec = vectorizer.transform([review])\n",
        "    return model.predict(review_vec)[0]\n",
        "\n",
        "print(\"Test prediction:\", predict_review_sentiment(model, vectorizer, \"I loved the plot!\"))"
      ],
      "metadata": {
        "colab": {
          "base_uri": "https://localhost:8080/"
        },
        "id": "7MRwOmJKl75j",
        "outputId": "28aed80b-22a0-45dd-bba8-64efd523ed95"
      },
      "execution_count": 87,
      "outputs": [
        {
          "output_type": "stream",
          "name": "stdout",
          "text": [
            "Test prediction: negative\n"
          ]
        }
      ]
    },
    {
      "cell_type": "markdown",
      "source": [
        "# **Question 5**"
      ],
      "metadata": {
        "id": "LzHObZ-4mV9K"
      }
    },
    {
      "cell_type": "code",
      "source": [
        "from sklearn.feature_extraction.text import TfidfVectorizer\n",
        "from sklearn.linear_model import LogisticRegression\n",
        "from sklearn.metrics import precision_score, recall_score, f1_score\n",
        "feedback = ['This is good' for _ in range(50)] + ['This is bad' for _ in range(50)]\n",
        "labels = ['good'] * 50 + ['bad'] * 50\n",
        "df2 = pd.DataFrame({'Feedback': feedback, 'Label': labels})"
      ],
      "metadata": {
        "id": "mzeobxBvmZ5x"
      },
      "execution_count": 88,
      "outputs": []
    },
    {
      "cell_type": "markdown",
      "source": [
        "Vectorization"
      ],
      "metadata": {
        "id": "7Ks8bbhInUpB"
      }
    },
    {
      "cell_type": "code",
      "source": [
        "vectorizer = TfidfVectorizer(max_features=300, stop_words='english', lowercase=True)\n",
        "X = vectorizer.fit_transform(df2['Feedback'])\n",
        "y = df2['Label']"
      ],
      "metadata": {
        "id": "Pg3TFfySne4_"
      },
      "execution_count": 89,
      "outputs": []
    },
    {
      "cell_type": "markdown",
      "source": [
        "Split"
      ],
      "metadata": {
        "id": "xU9FwzCPnkpv"
      }
    },
    {
      "cell_type": "code",
      "source": [
        "X_train, X_test, y_train, y_test = train_test_split(X, y, test_size=0.25, random_state=42)"
      ],
      "metadata": {
        "id": "i9EcH3q6nmbk"
      },
      "execution_count": 90,
      "outputs": []
    },
    {
      "cell_type": "markdown",
      "source": [
        "Model"
      ],
      "metadata": {
        "id": "K4WLYDqcnpT8"
      }
    },
    {
      "cell_type": "code",
      "source": [
        "lr_model = LogisticRegression()\n",
        "lr_model.fit(X_train, y_train)\n",
        "y_pred = lr_model.predict(X_test)\n",
        "\n",
        "print(\"Precision:\", precision_score(y_test, y_pred, pos_label='good'))\n",
        "print(\"Recall:\", recall_score(y_test, y_pred, pos_label='good'))\n",
        "print(\"F1-Score:\", f1_score(y_test, y_pred, pos_label='good'))\n"
      ],
      "metadata": {
        "colab": {
          "base_uri": "https://localhost:8080/"
        },
        "id": "GtfHNaMPnsSm",
        "outputId": "bce5c1f4-7610-4398-b5da-7ba479637bc7"
      },
      "execution_count": 91,
      "outputs": [
        {
          "output_type": "stream",
          "name": "stdout",
          "text": [
            "Precision: 1.0\n",
            "Recall: 1.0\n",
            "F1-Score: 1.0\n"
          ]
        }
      ]
    },
    {
      "cell_type": "markdown",
      "source": [
        "text preprocess vectorize"
      ],
      "metadata": {
        "id": "LHwz4PPRn1pl"
      }
    },
    {
      "cell_type": "code",
      "source": [
        "def text_preprocess_vectorize(texts, vectorizer):\n",
        "    return vectorizer.transform(texts)\n",
        "\n",
        "# Example usage\n",
        "print(\"Vectorized test sample:\", text_preprocess_vectorize([\"amazing product\"], vectorizer).toarray())\n"
      ],
      "metadata": {
        "colab": {
          "base_uri": "https://localhost:8080/"
        },
        "id": "OvMoak1ln28p",
        "outputId": "8d47b4c8-1c77-40da-849c-85515da90a5c"
      },
      "execution_count": 92,
      "outputs": [
        {
          "output_type": "stream",
          "name": "stdout",
          "text": [
            "Vectorized test sample: [[0. 0.]]\n"
          ]
        }
      ]
    }
  ]
}
